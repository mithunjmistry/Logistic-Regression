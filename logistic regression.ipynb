{
 "cells": [
  {
   "cell_type": "code",
   "execution_count": 83,
   "metadata": {
    "collapsed": true
   },
   "outputs": [],
   "source": [
    "import pandas as pd\n",
    "import numpy as np\n",
    "from sklearn import datasets\n",
    "import matplotlib.pyplot as plt\n",
    "%matplotlib inline"
   ]
  },
  {
   "cell_type": "code",
   "execution_count": 84,
   "metadata": {
    "collapsed": true
   },
   "outputs": [],
   "source": [
    "iris_raw = datasets.load_iris()"
   ]
  },
  {
   "cell_type": "code",
   "execution_count": 85,
   "metadata": {
    "collapsed": true
   },
   "outputs": [],
   "source": [
    "x = iris_raw.data[:,-2:][50:]"
   ]
  },
  {
   "cell_type": "code",
   "execution_count": 86,
   "metadata": {
    "collapsed": true
   },
   "outputs": [],
   "source": [
    "y = iris_raw.target[50:]\n",
    "y[y == 1] = 0\n",
    "y[y == 2] = 1"
   ]
  },
  {
   "cell_type": "markdown",
   "metadata": {},
   "source": [
    "### Mean center the data"
   ]
  },
  {
   "cell_type": "code",
   "execution_count": 87,
   "metadata": {
    "collapsed": true
   },
   "outputs": [],
   "source": [
    "x = ((x - x.min(axis=0))/(x.max(axis=0) - x.min(axis=0)))"
   ]
  },
  {
   "cell_type": "code",
   "execution_count": 88,
   "metadata": {
    "collapsed": true
   },
   "outputs": [],
   "source": [
    "def sigmoid(z):\n",
    "    return 1 / (1 + np.exp(-z))"
   ]
  },
  {
   "cell_type": "code",
   "execution_count": 105,
   "metadata": {
    "collapsed": true
   },
   "outputs": [],
   "source": [
    "def logistic_regression(x, y):\n",
    "    iteration = 200\n",
    "    n = x.shape[1]\n",
    "    m = x.shape[0]\n",
    "    #add bias term\n",
    "    x = np.hstack((np.ones((m,1)),x))\n",
    "    alpha = 5\n",
    "    error_total = 0 \n",
    "    #initialize theta\n",
    "    theta = np.zeros(3)\n",
    "    theta = np.matrix(theta)\n",
    "    \n",
    "    for skip in range(0,100):\n",
    "        # flush theta each time\n",
    "        theta = np.zeros(3)\n",
    "        theta = np.matrix(theta)\n",
    "    \n",
    "        x_test = x[skip]\n",
    "        x_input = np.delete(x, (skip), axis=0)\n",
    "        y_test = y[skip]\n",
    "        y_output = np.delete(y, (skip), axis=0)\n",
    "\n",
    "        for index_iter in range(iteration-1):\n",
    "            cur_z = np.dot(x_input,theta.T)\n",
    "            cur_y_hat = sigmoid(cur_z)\n",
    "            cur_residual = cur_y_hat - np.array([y_output]).T\n",
    "\n",
    "            p_d = np.zeros(3)\n",
    "            \n",
    "            for i in range(0, 3):\n",
    "                d = np.dot(cur_residual.T, (x_input[:, i]))\n",
    "                p_d[i] = (1.0 / x_input.shape[0]) * d * - 1\n",
    "\n",
    "            #update theta\n",
    "            theta += alpha*p_d\n",
    "            \n",
    "        # testing\n",
    "        temp = np.dot(x_test,theta.T)\n",
    "        y_prediction = sigmoid(temp)\n",
    "        if(y_prediction >= 0.5):\n",
    "            y_prediction = 1\n",
    "        elif(y_prediction < 0.5):\n",
    "            y_prediction = 0\n",
    "        error = np.abs(y_prediction - y_test)\n",
    "        error_total += error\n",
    "    return error_total/m"
   ]
  },
  {
   "cell_type": "code",
   "execution_count": 108,
   "metadata": {
    "collapsed": true
   },
   "outputs": [],
   "source": [
    "avg_error = logistic_regression(x, y)"
   ]
  },
  {
   "cell_type": "code",
   "execution_count": 109,
   "metadata": {},
   "outputs": [
    {
     "name": "stdout",
     "output_type": "stream",
     "text": [
      "Average error for Logistic Regression is 0.07\n"
     ]
    }
   ],
   "source": [
    "print(\"Average error for Logistic Regression is {}\".format(avg_error))"
   ]
  },
  {
   "cell_type": "code",
   "execution_count": null,
   "metadata": {
    "collapsed": true
   },
   "outputs": [],
   "source": []
  }
 ],
 "metadata": {
  "kernelspec": {
   "display_name": "Python 3",
   "language": "python",
   "name": "python3"
  },
  "language_info": {
   "codemirror_mode": {
    "name": "ipython",
    "version": 3
   },
   "file_extension": ".py",
   "mimetype": "text/x-python",
   "name": "python",
   "nbconvert_exporter": "python",
   "pygments_lexer": "ipython3",
   "version": "3.6.1"
  }
 },
 "nbformat": 4,
 "nbformat_minor": 2
}
